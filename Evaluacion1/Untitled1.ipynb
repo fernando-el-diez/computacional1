{
 "cells": [
  {
   "cell_type": "code",
   "execution_count": 1,
   "metadata": {
    "collapsed": true
   },
   "outputs": [],
   "source": [
    "import pandas as pd\n",
    "import numpy as np\n",
    "\n",
    "from datetime import datetime"
   ]
  },
  {
   "cell_type": "code",
   "execution_count": 2,
   "metadata": {},
   "outputs": [],
   "source": [
    "# Lee un archivo de texto con la función Pandas \"read_csv\", con elementos separados por mas de \n",
    "# un espacio, brincándose 4 renglones del inicio (encabezados)\n",
    "df0 = pd.read_csv('sargento-salinidad-201117.csv', skiprows=1, sep=',')\n",
    "# \"Shift + Enter\""
   ]
  },
  {
   "cell_type": "code",
   "execution_count": 3,
   "metadata": {},
   "outputs": [
    {
     "data": {
      "text/html": [
       "<div>\n",
       "<style>\n",
       "    .dataframe thead tr:only-child th {\n",
       "        text-align: right;\n",
       "    }\n",
       "\n",
       "    .dataframe thead th {\n",
       "        text-align: left;\n",
       "    }\n",
       "\n",
       "    .dataframe tbody tr th {\n",
       "        vertical-align: top;\n",
       "    }\n",
       "</style>\n",
       "<table border=\"1\" class=\"dataframe\">\n",
       "  <thead>\n",
       "    <tr style=\"text-align: right;\">\n",
       "      <th></th>\n",
       "      <th>#</th>\n",
       "      <th>Fecha</th>\n",
       "      <th>Cond</th>\n",
       "      <th>Temp</th>\n",
       "      <th>SpecificConductance</th>\n",
       "      <th>Salinity</th>\n",
       "      <th>ppt</th>\n",
       "    </tr>\n",
       "  </thead>\n",
       "  <tbody>\n",
       "    <tr>\n",
       "      <th>0</th>\n",
       "      <td>1</td>\n",
       "      <td>10/26/2017 12:45:00</td>\n",
       "      <td>54525.5</td>\n",
       "      <td>25.21</td>\n",
       "      <td>54301.2</td>\n",
       "      <td>35.9195</td>\n",
       "      <td>NaN</td>\n",
       "    </tr>\n",
       "    <tr>\n",
       "      <th>1</th>\n",
       "      <td>2</td>\n",
       "      <td>10/26/2017 13:00:00</td>\n",
       "      <td>54525.5</td>\n",
       "      <td>24.91</td>\n",
       "      <td>54622.1</td>\n",
       "      <td>36.1588</td>\n",
       "      <td>NaN</td>\n",
       "    </tr>\n",
       "    <tr>\n",
       "      <th>2</th>\n",
       "      <td>3</td>\n",
       "      <td>10/26/2017 13:15:00</td>\n",
       "      <td>54525.5</td>\n",
       "      <td>24.82</td>\n",
       "      <td>54719.0</td>\n",
       "      <td>36.2311</td>\n",
       "      <td>NaN</td>\n",
       "    </tr>\n",
       "    <tr>\n",
       "      <th>3</th>\n",
       "      <td>4</td>\n",
       "      <td>10/26/2017 13:30:00</td>\n",
       "      <td>54525.5</td>\n",
       "      <td>24.76</td>\n",
       "      <td>54783.8</td>\n",
       "      <td>36.2794</td>\n",
       "      <td>NaN</td>\n",
       "    </tr>\n",
       "    <tr>\n",
       "      <th>4</th>\n",
       "      <td>5</td>\n",
       "      <td>10/26/2017 13:45:00</td>\n",
       "      <td>54525.5</td>\n",
       "      <td>24.75</td>\n",
       "      <td>54794.6</td>\n",
       "      <td>36.2875</td>\n",
       "      <td>NaN</td>\n",
       "    </tr>\n",
       "  </tbody>\n",
       "</table>\n",
       "</div>"
      ],
      "text/plain": [
       "   #                Fecha     Cond   Temp  SpecificConductance  Salinity  ppt\n",
       "0  1  10/26/2017 12:45:00  54525.5  25.21              54301.2   35.9195  NaN\n",
       "1  2  10/26/2017 13:00:00  54525.5  24.91              54622.1   36.1588  NaN\n",
       "2  3  10/26/2017 13:15:00  54525.5  24.82              54719.0   36.2311  NaN\n",
       "3  4  10/26/2017 13:30:00  54525.5  24.76              54783.8   36.2794  NaN\n",
       "4  5  10/26/2017 13:45:00  54525.5  24.75              54794.6   36.2875  NaN"
      ]
     },
     "execution_count": 3,
     "metadata": {},
     "output_type": "execute_result"
    }
   ],
   "source": [
    "# Lee los primeros 5 renglones del archivo\n",
    "df0.head(5)\n",
    "# \"Shift+Enter\""
   ]
  },
  {
   "cell_type": "code",
   "execution_count": 4,
   "metadata": {
    "collapsed": true
   },
   "outputs": [],
   "source": [
    "df = pd.DataFrame(df0)"
   ]
  },
  {
   "cell_type": "code",
   "execution_count": 5,
   "metadata": {},
   "outputs": [
    {
     "data": {
      "text/plain": [
       "#                        int64\n",
       "Fecha                   object\n",
       "Cond                   float64\n",
       "Temp                   float64\n",
       "SpecificConductance    float64\n",
       "Salinity               float64\n",
       "ppt                    float64\n",
       "dtype: object"
      ]
     },
     "execution_count": 5,
     "metadata": {},
     "output_type": "execute_result"
    }
   ],
   "source": [
    "# Ver los tipos de datos que Pandas ha reconocido al leer\n",
    "df.dtypes"
   ]
  },
  {
   "cell_type": "code",
   "execution_count": 6,
   "metadata": {},
   "outputs": [
    {
     "data": {
      "text/html": [
       "<div>\n",
       "<style>\n",
       "    .dataframe thead tr:only-child th {\n",
       "        text-align: right;\n",
       "    }\n",
       "\n",
       "    .dataframe thead th {\n",
       "        text-align: left;\n",
       "    }\n",
       "\n",
       "    .dataframe tbody tr th {\n",
       "        vertical-align: top;\n",
       "    }\n",
       "</style>\n",
       "<table border=\"1\" class=\"dataframe\">\n",
       "  <thead>\n",
       "    <tr style=\"text-align: right;\">\n",
       "      <th></th>\n",
       "      <th>#</th>\n",
       "      <th>Fecha</th>\n",
       "      <th>Cond</th>\n",
       "      <th>Temp</th>\n",
       "      <th>SpecificConductance</th>\n",
       "      <th>Salinity</th>\n",
       "      <th>ppt</th>\n",
       "    </tr>\n",
       "  </thead>\n",
       "  <tbody>\n",
       "    <tr>\n",
       "      <th>0</th>\n",
       "      <td>1</td>\n",
       "      <td>10/26/2017 12:45:00</td>\n",
       "      <td>54525.5</td>\n",
       "      <td>25.21</td>\n",
       "      <td>54301.2</td>\n",
       "      <td>35.9195</td>\n",
       "      <td>NaN</td>\n",
       "    </tr>\n",
       "    <tr>\n",
       "      <th>1</th>\n",
       "      <td>2</td>\n",
       "      <td>10/26/2017 13:00:00</td>\n",
       "      <td>54525.5</td>\n",
       "      <td>24.91</td>\n",
       "      <td>54622.1</td>\n",
       "      <td>36.1588</td>\n",
       "      <td>NaN</td>\n",
       "    </tr>\n",
       "    <tr>\n",
       "      <th>2</th>\n",
       "      <td>3</td>\n",
       "      <td>10/26/2017 13:15:00</td>\n",
       "      <td>54525.5</td>\n",
       "      <td>24.82</td>\n",
       "      <td>54719.0</td>\n",
       "      <td>36.2311</td>\n",
       "      <td>NaN</td>\n",
       "    </tr>\n",
       "    <tr>\n",
       "      <th>3</th>\n",
       "      <td>4</td>\n",
       "      <td>10/26/2017 13:30:00</td>\n",
       "      <td>54525.5</td>\n",
       "      <td>24.76</td>\n",
       "      <td>54783.8</td>\n",
       "      <td>36.2794</td>\n",
       "      <td>NaN</td>\n",
       "    </tr>\n",
       "    <tr>\n",
       "      <th>4</th>\n",
       "      <td>5</td>\n",
       "      <td>10/26/2017 13:45:00</td>\n",
       "      <td>54525.5</td>\n",
       "      <td>24.75</td>\n",
       "      <td>54794.6</td>\n",
       "      <td>36.2875</td>\n",
       "      <td>NaN</td>\n",
       "    </tr>\n",
       "  </tbody>\n",
       "</table>\n",
       "</div>"
      ],
      "text/plain": [
       "   #                Fecha     Cond   Temp  SpecificConductance  Salinity  ppt\n",
       "0  1  10/26/2017 12:45:00  54525.5  25.21              54301.2   35.9195  NaN\n",
       "1  2  10/26/2017 13:00:00  54525.5  24.91              54622.1   36.1588  NaN\n",
       "2  3  10/26/2017 13:15:00  54525.5  24.82              54719.0   36.2311  NaN\n",
       "3  4  10/26/2017 13:30:00  54525.5  24.76              54783.8   36.2794  NaN\n",
       "4  5  10/26/2017 13:45:00  54525.5  24.75              54794.6   36.2875  NaN"
      ]
     },
     "execution_count": 6,
     "metadata": {},
     "output_type": "execute_result"
    }
   ],
   "source": [
    "df.head()"
   ]
  },
  {
   "cell_type": "code",
   "execution_count": 7,
   "metadata": {},
   "outputs": [
    {
     "data": {
      "text/plain": [
       "#                        int64\n",
       "Fecha                   object\n",
       "Cond                   float64\n",
       "Temp                   float64\n",
       "SpecificConductance    float64\n",
       "Salinity               float64\n",
       "ppt                    float64\n",
       "dtype: object"
      ]
     },
     "execution_count": 7,
     "metadata": {},
     "output_type": "execute_result"
    }
   ],
   "source": [
    "df.dtypes"
   ]
  },
  {
   "cell_type": "code",
   "execution_count": 8,
   "metadata": {},
   "outputs": [
    {
     "data": {
      "text/html": [
       "<div>\n",
       "<style>\n",
       "    .dataframe thead tr:only-child th {\n",
       "        text-align: right;\n",
       "    }\n",
       "\n",
       "    .dataframe thead th {\n",
       "        text-align: left;\n",
       "    }\n",
       "\n",
       "    .dataframe tbody tr th {\n",
       "        vertical-align: top;\n",
       "    }\n",
       "</style>\n",
       "<table border=\"1\" class=\"dataframe\">\n",
       "  <thead>\n",
       "    <tr style=\"text-align: right;\">\n",
       "      <th></th>\n",
       "      <th>#</th>\n",
       "      <th>Fecha</th>\n",
       "      <th>Cond</th>\n",
       "      <th>Temp</th>\n",
       "      <th>SpecificConductance</th>\n",
       "      <th>Salinity</th>\n",
       "      <th>ppt</th>\n",
       "      <th>Ndate</th>\n",
       "      <th>month</th>\n",
       "    </tr>\n",
       "  </thead>\n",
       "  <tbody>\n",
       "    <tr>\n",
       "      <th>0</th>\n",
       "      <td>1</td>\n",
       "      <td>10/26/2017 12:45:00</td>\n",
       "      <td>54525.5</td>\n",
       "      <td>25.21</td>\n",
       "      <td>54301.2</td>\n",
       "      <td>35.9195</td>\n",
       "      <td>NaN</td>\n",
       "      <td>2017-10-26 12:45:00</td>\n",
       "      <td>10</td>\n",
       "    </tr>\n",
       "    <tr>\n",
       "      <th>1</th>\n",
       "      <td>2</td>\n",
       "      <td>10/26/2017 13:00:00</td>\n",
       "      <td>54525.5</td>\n",
       "      <td>24.91</td>\n",
       "      <td>54622.1</td>\n",
       "      <td>36.1588</td>\n",
       "      <td>NaN</td>\n",
       "      <td>2017-10-26 13:00:00</td>\n",
       "      <td>10</td>\n",
       "    </tr>\n",
       "    <tr>\n",
       "      <th>2</th>\n",
       "      <td>3</td>\n",
       "      <td>10/26/2017 13:15:00</td>\n",
       "      <td>54525.5</td>\n",
       "      <td>24.82</td>\n",
       "      <td>54719.0</td>\n",
       "      <td>36.2311</td>\n",
       "      <td>NaN</td>\n",
       "      <td>2017-10-26 13:15:00</td>\n",
       "      <td>10</td>\n",
       "    </tr>\n",
       "    <tr>\n",
       "      <th>3</th>\n",
       "      <td>4</td>\n",
       "      <td>10/26/2017 13:30:00</td>\n",
       "      <td>54525.5</td>\n",
       "      <td>24.76</td>\n",
       "      <td>54783.8</td>\n",
       "      <td>36.2794</td>\n",
       "      <td>NaN</td>\n",
       "      <td>2017-10-26 13:30:00</td>\n",
       "      <td>10</td>\n",
       "    </tr>\n",
       "    <tr>\n",
       "      <th>4</th>\n",
       "      <td>5</td>\n",
       "      <td>10/26/2017 13:45:00</td>\n",
       "      <td>54525.5</td>\n",
       "      <td>24.75</td>\n",
       "      <td>54794.6</td>\n",
       "      <td>36.2875</td>\n",
       "      <td>NaN</td>\n",
       "      <td>2017-10-26 13:45:00</td>\n",
       "      <td>10</td>\n",
       "    </tr>\n",
       "  </tbody>\n",
       "</table>\n",
       "</div>"
      ],
      "text/plain": [
       "   #                Fecha     Cond   Temp  SpecificConductance  Salinity  ppt  \\\n",
       "0  1  10/26/2017 12:45:00  54525.5  25.21              54301.2   35.9195  NaN   \n",
       "1  2  10/26/2017 13:00:00  54525.5  24.91              54622.1   36.1588  NaN   \n",
       "2  3  10/26/2017 13:15:00  54525.5  24.82              54719.0   36.2311  NaN   \n",
       "3  4  10/26/2017 13:30:00  54525.5  24.76              54783.8   36.2794  NaN   \n",
       "4  5  10/26/2017 13:45:00  54525.5  24.75              54794.6   36.2875  NaN   \n",
       "\n",
       "                Ndate  month  \n",
       "0 2017-10-26 12:45:00     10  \n",
       "1 2017-10-26 13:00:00     10  \n",
       "2 2017-10-26 13:15:00     10  \n",
       "3 2017-10-26 13:30:00     10  \n",
       "4 2017-10-26 13:45:00     10  "
      ]
     },
     "execution_count": 8,
     "metadata": {},
     "output_type": "execute_result"
    }
   ],
   "source": [
    "# Convertir la cadena de caracteres 'Date' en variable temporal 'NDate'\n",
    "df['Ndate'] = pd.to_datetime(df['Fecha'], format='%m/%d/%Y %H:%M:%S')\n",
    "df['month'] = df['Ndate'].dt.month\n",
    "df.head()"
   ]
  },
  {
   "cell_type": "code",
   "execution_count": 9,
   "metadata": {},
   "outputs": [
    {
     "data": {
      "image/png": "[encoded data removed]",
      "text/plain": [
       "<matplotlib.figure.Figure at 0x7f28b61596d8>"
      ]
     },
     "metadata": {},
     "output_type": "display_data"
    }
   ],
   "source": [
    "# graficar Boxplots por mes\n",
    "# Biblioteca Seaborn\n",
    "import seaborn as sns\n",
    "import matplotlib.pyplot as plt\n",
    "ax = sns.boxplot(x=\"month\", y=\"Salinity\", data=df)\n",
    "plt.show()"
   ]
  },
  {
   "cell_type": "code",
   "execution_count": 10,
   "metadata": {},
   "outputs": [
    {
     "data": {
      "image/png": "[encoded data removed]",
      "text/plain": [
       "<matplotlib.figure.Figure at 0x7f28c07f5630>"
      ]
     },
     "metadata": {},
     "output_type": "display_data"
    }
   ],
   "source": [
    "import seaborn as sns\n",
    "sns.set(style=\"darkgrid\", color_codes=True)\n",
    "\n",
    "g = sns.jointplot(\"Temp\", \"Salinity\", data=df, kind=\"reg\",\n",
    "                   color=\"r\", size=7)\n",
    "plt.show(g)"
   ]
  },
  {
   "cell_type": "code",
   "execution_count": 11,
   "metadata": {},
   "outputs": [
    {
     "data": {
      "image/png": "[encoded data removed]",
      "text/plain": [
       "<matplotlib.figure.Figure at 0x7f28aec1f2e8>"
      ]
     },
     "metadata": {},
     "output_type": "display_data"
    }
   ],
   "source": [
    "# Gráfica de la rapidez de los vientos (m/s) \n",
    "plt.figure(); df.Salinity.plot(); plt.legend(loc='best')\n",
    "plt.title(\"Salinidad\")\n",
    "plt.grid(True)\n",
    "plt.show()"
   ]
  },
  {
   "cell_type": "code",
   "execution_count": null,
   "metadata": {},
   "outputs": [],
   "source": []
  },
  {
   "cell_type": "code",
   "execution_count": null,
   "metadata": {
    "collapsed": true
   },
   "outputs": [],
   "source": []
  }
 ],
 "metadata": {
  "kernelspec": {
   "display_name": "Python 3",
   "language": "python",
   "name": "python3"
  },
  "language_info": {
   "codemirror_mode": {
    "name": "ipython",
    "version": 3
   },
   "file_extension": ".py",
   "mimetype": "text/x-python",
   "name": "python",
   "nbconvert_exporter": "python",
   "pygments_lexer": "ipython3",
   "version": "3.6.3"
  }
 },
 "nbformat": 4,
 "nbformat_minor": 2
}
