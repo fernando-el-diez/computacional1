{
 "cells": [
  {
   "cell_type": "code",
   "execution_count": 1,
   "metadata": {
    "collapsed": true
   },
   "outputs": [],
   "source": [
    "# Cargar a la memoria de trabajo las bibliotecas: Pandas (manejo de datos, \n",
    "# Numpy (numerical python) y la biblioteca de gráficas Matplotlib\n",
    "# Se asignan nombres cortos.\n",
    "import pandas as pd\n",
    "import numpy as np\n",
    "import matplotlib.pyplot as plt\n",
    "#\n",
    "# Usar \"Shift+Enter\" para procesar la información de la celda\n"
   ]
  },
  {
   "cell_type": "code",
   "execution_count": 2,
   "metadata": {
    "collapsed": true
   },
   "outputs": [],
   "source": [
    "df0 = pd.read_csv('datos_act3.txt', skiprows=1, sep='\\s+')\n",
    "# \"Shift + Enter\""
   ]
  },
  {
   "cell_type": "code",
   "execution_count": 3,
   "metadata": {},
   "outputs": [
    {
     "data": {
      "text/html": [
       "<div>\n",
       "<style>\n",
       "    .dataframe thead tr:only-child th {\n",
       "        text-align: right;\n",
       "    }\n",
       "\n",
       "    .dataframe thead th {\n",
       "        text-align: left;\n",
       "    }\n",
       "\n",
       "    .dataframe tbody tr th {\n",
       "        vertical-align: top;\n",
       "    }\n",
       "</style>\n",
       "<table border=\"1\" class=\"dataframe\">\n",
       "  <thead>\n",
       "    <tr style=\"text-align: right;\">\n",
       "      <th></th>\n",
       "      <th>PRES</th>\n",
       "      <th>HGHT</th>\n",
       "      <th>TEMP</th>\n",
       "      <th>DWPT</th>\n",
       "      <th>RELH</th>\n",
       "      <th>MIXR</th>\n",
       "      <th>DRCT</th>\n",
       "      <th>SKNT</th>\n",
       "      <th>THTA</th>\n",
       "      <th>THTE</th>\n",
       "      <th>THTV</th>\n",
       "    </tr>\n",
       "  </thead>\n",
       "  <tbody>\n",
       "    <tr>\n",
       "      <th>0</th>\n",
       "      <td>1000.0</td>\n",
       "      <td>124</td>\n",
       "      <td>0.0</td>\n",
       "      <td>0.0</td>\n",
       "      <td>NaN</td>\n",
       "      <td>NaN</td>\n",
       "      <td>NaN</td>\n",
       "      <td>NaN</td>\n",
       "      <td>NaN</td>\n",
       "      <td>NaN</td>\n",
       "      <td>NaN</td>\n",
       "    </tr>\n",
       "    <tr>\n",
       "      <th>1</th>\n",
       "      <td>992.0</td>\n",
       "      <td>171</td>\n",
       "      <td>8.0</td>\n",
       "      <td>4.4</td>\n",
       "      <td>78.0</td>\n",
       "      <td>5.31</td>\n",
       "      <td>270.0</td>\n",
       "      <td>12.0</td>\n",
       "      <td>281.8</td>\n",
       "      <td>296.7</td>\n",
       "      <td>282.7</td>\n",
       "    </tr>\n",
       "    <tr>\n",
       "      <th>2</th>\n",
       "      <td>986.0</td>\n",
       "      <td>223</td>\n",
       "      <td>7.2</td>\n",
       "      <td>3.2</td>\n",
       "      <td>76.0</td>\n",
       "      <td>4.91</td>\n",
       "      <td>278.0</td>\n",
       "      <td>13.0</td>\n",
       "      <td>281.5</td>\n",
       "      <td>295.3</td>\n",
       "      <td>282.3</td>\n",
       "    </tr>\n",
       "    <tr>\n",
       "      <th>3</th>\n",
       "      <td>942.0</td>\n",
       "      <td>610</td>\n",
       "      <td>4.0</td>\n",
       "      <td>3.0</td>\n",
       "      <td>93.0</td>\n",
       "      <td>5.08</td>\n",
       "      <td>340.0</td>\n",
       "      <td>18.0</td>\n",
       "      <td>281.9</td>\n",
       "      <td>296.2</td>\n",
       "      <td>282.8</td>\n",
       "    </tr>\n",
       "    <tr>\n",
       "      <th>4</th>\n",
       "      <td>934.0</td>\n",
       "      <td>682</td>\n",
       "      <td>3.4</td>\n",
       "      <td>3.0</td>\n",
       "      <td>97.0</td>\n",
       "      <td>5.11</td>\n",
       "      <td>359.0</td>\n",
       "      <td>11.0</td>\n",
       "      <td>282.0</td>\n",
       "      <td>296.4</td>\n",
       "      <td>282.9</td>\n",
       "    </tr>\n",
       "  </tbody>\n",
       "</table>\n",
       "</div>"
      ],
      "text/plain": [
       "     PRES  HGHT  TEMP  DWPT  RELH  MIXR   DRCT  SKNT   THTA   THTE   THTV\n",
       "0  1000.0   124   0.0   0.0   NaN   NaN    NaN   NaN    NaN    NaN    NaN\n",
       "1   992.0   171   8.0   4.4  78.0  5.31  270.0  12.0  281.8  296.7  282.7\n",
       "2   986.0   223   7.2   3.2  76.0  4.91  278.0  13.0  281.5  295.3  282.3\n",
       "3   942.0   610   4.0   3.0  93.0  5.08  340.0  18.0  281.9  296.2  282.8\n",
       "4   934.0   682   3.4   3.0  97.0  5.11  359.0  11.0  282.0  296.4  282.9"
      ]
     },
     "execution_count": 3,
     "metadata": {},
     "output_type": "execute_result"
    }
   ],
   "source": [
    "# Lee los primeros 5 renglones del archivo\n",
    "df0.head()\n",
    "# \"Shift+Enter\""
   ]
  },
  {
   "cell_type": "code",
   "execution_count": 4,
   "metadata": {
    "scrolled": true
   },
   "outputs": [
    {
     "data": {
      "text/html": [
       "<div>\n",
       "<style>\n",
       "    .dataframe thead tr:only-child th {\n",
       "        text-align: right;\n",
       "    }\n",
       "\n",
       "    .dataframe thead th {\n",
       "        text-align: left;\n",
       "    }\n",
       "\n",
       "    .dataframe tbody tr th {\n",
       "        vertical-align: top;\n",
       "    }\n",
       "</style>\n",
       "<table border=\"1\" class=\"dataframe\">\n",
       "  <thead>\n",
       "    <tr style=\"text-align: right;\">\n",
       "      <th></th>\n",
       "      <th>PRES</th>\n",
       "      <th>HGHT</th>\n",
       "      <th>TEMP</th>\n",
       "      <th>DWPT</th>\n",
       "      <th>RELH</th>\n",
       "      <th>MIXR</th>\n",
       "      <th>DRCT</th>\n",
       "      <th>SKNT</th>\n",
       "      <th>THTA</th>\n",
       "      <th>THTE</th>\n",
       "      <th>THTV</th>\n",
       "    </tr>\n",
       "  </thead>\n",
       "  <tbody>\n",
       "    <tr>\n",
       "      <th>0</th>\n",
       "      <td>1000.0</td>\n",
       "      <td>124</td>\n",
       "      <td>0.0</td>\n",
       "      <td>0.0</td>\n",
       "      <td>NaN</td>\n",
       "      <td>NaN</td>\n",
       "      <td>NaN</td>\n",
       "      <td>NaN</td>\n",
       "      <td>NaN</td>\n",
       "      <td>NaN</td>\n",
       "      <td>NaN</td>\n",
       "    </tr>\n",
       "    <tr>\n",
       "      <th>1</th>\n",
       "      <td>992.0</td>\n",
       "      <td>171</td>\n",
       "      <td>8.0</td>\n",
       "      <td>4.4</td>\n",
       "      <td>78.0</td>\n",
       "      <td>5.31</td>\n",
       "      <td>270.0</td>\n",
       "      <td>12.0</td>\n",
       "      <td>281.8</td>\n",
       "      <td>296.7</td>\n",
       "      <td>282.7</td>\n",
       "    </tr>\n",
       "    <tr>\n",
       "      <th>2</th>\n",
       "      <td>986.0</td>\n",
       "      <td>223</td>\n",
       "      <td>7.2</td>\n",
       "      <td>3.2</td>\n",
       "      <td>76.0</td>\n",
       "      <td>4.91</td>\n",
       "      <td>278.0</td>\n",
       "      <td>13.0</td>\n",
       "      <td>281.5</td>\n",
       "      <td>295.3</td>\n",
       "      <td>282.3</td>\n",
       "    </tr>\n",
       "    <tr>\n",
       "      <th>3</th>\n",
       "      <td>942.0</td>\n",
       "      <td>610</td>\n",
       "      <td>4.0</td>\n",
       "      <td>3.0</td>\n",
       "      <td>93.0</td>\n",
       "      <td>5.08</td>\n",
       "      <td>340.0</td>\n",
       "      <td>18.0</td>\n",
       "      <td>281.9</td>\n",
       "      <td>296.2</td>\n",
       "      <td>282.8</td>\n",
       "    </tr>\n",
       "    <tr>\n",
       "      <th>4</th>\n",
       "      <td>934.0</td>\n",
       "      <td>682</td>\n",
       "      <td>3.4</td>\n",
       "      <td>3.0</td>\n",
       "      <td>97.0</td>\n",
       "      <td>5.11</td>\n",
       "      <td>359.0</td>\n",
       "      <td>11.0</td>\n",
       "      <td>282.0</td>\n",
       "      <td>296.4</td>\n",
       "      <td>282.9</td>\n",
       "    </tr>\n",
       "  </tbody>\n",
       "</table>\n",
       "</div>"
      ],
      "text/plain": [
       "     PRES  HGHT  TEMP  DWPT  RELH  MIXR   DRCT  SKNT   THTA   THTE   THTV\n",
       "0  1000.0   124   0.0   0.0   NaN   NaN    NaN   NaN    NaN    NaN    NaN\n",
       "1   992.0   171   8.0   4.4  78.0  5.31  270.0  12.0  281.8  296.7  282.7\n",
       "2   986.0   223   7.2   3.2  76.0  4.91  278.0  13.0  281.5  295.3  282.3\n",
       "3   942.0   610   4.0   3.0  93.0  5.08  340.0  18.0  281.9  296.2  282.8\n",
       "4   934.0   682   3.4   3.0  97.0  5.11  359.0  11.0  282.0  296.4  282.9"
      ]
     },
     "execution_count": 4,
     "metadata": {},
     "output_type": "execute_result"
    }
   ],
   "source": [
    "# Lee los primeros 5 renglones del archivo\n",
    "df0.head()\n",
    "# \"Shift+Enter\""
   ]
  },
  {
   "cell_type": "code",
   "execution_count": 5,
   "metadata": {
    "collapsed": true
   },
   "outputs": [],
   "source": [
    "# Dar estructura de datos (DataFrame)\n",
    "df = pd.DataFrame(df0)"
   ]
  },
  {
   "cell_type": "code",
   "execution_count": 6,
   "metadata": {},
   "outputs": [
    {
     "data": {
      "text/plain": [
       "PRES    float64\n",
       "HGHT      int64\n",
       "TEMP    float64\n",
       "DWPT    float64\n",
       "RELH    float64\n",
       "MIXR    float64\n",
       "DRCT    float64\n",
       "SKNT    float64\n",
       "THTA    float64\n",
       "THTE    float64\n",
       "THTV    float64\n",
       "dtype: object"
      ]
     },
     "execution_count": 6,
     "metadata": {},
     "output_type": "execute_result"
    }
   ],
   "source": [
    "# Ver los tipos de datos que Pandas ha reconocido al leer\n",
    "df.dtypes"
   ]
  },
  {
   "cell_type": "code",
   "execution_count": 7,
   "metadata": {},
   "outputs": [
    {
     "data": {
      "text/plain": [
       "<bound method NDFrame.describe of        PRES   HGHT  TEMP  DWPT   RELH   MIXR   DRCT   SKNT   THTA   THTE  \\\n",
       "0    1000.0    124   0.0   0.0    NaN    NaN    NaN    NaN    NaN    NaN   \n",
       "1     992.0    171   8.0   4.4   78.0   5.31  270.0   12.0  281.8  296.7   \n",
       "2     986.0    223   7.2   3.2   76.0   4.91  278.0   13.0  281.5  295.3   \n",
       "3     942.0    610   4.0   3.0   93.0   5.08  340.0   18.0  281.9  296.2   \n",
       "4     934.0    682   3.4   3.0   97.0   5.11  359.0   11.0  282.0  296.4   \n",
       "5     930.0    718   4.6   4.5   99.0   5.71    8.0    7.0  283.6  299.6   \n",
       "6     925.0    764   7.2   7.1   99.0   6.88   20.0    2.0  286.7  306.1   \n",
       "7     920.0    809   9.6   9.4   99.0   8.11   41.0    2.0  289.6  312.7   \n",
       "8     913.0    873  14.0  13.6   97.0  10.83   71.0    1.0  294.7  326.0   \n",
       "9     908.5    914  14.9  14.8  100.0  11.82   90.0    1.0  296.0  330.3   \n",
       "10    908.0    919  15.0  15.0  100.0  11.94   91.0    1.0  296.2  330.8   \n",
       "11    903.0    966  15.0  15.0  100.0  12.01  102.0    3.0  296.7  331.6   \n",
       "12    853.0   1446  12.4  12.4  100.0  10.71  212.0   19.0  298.8  330.3   \n",
       "13    850.0   1476  12.2  12.1   99.0  10.54  219.0   20.0  298.9  329.9   \n",
       "14    846.0   1516  12.0  11.9   99.0  10.45  228.0   22.0  299.1  329.9   \n",
       "15    845.1   1524  12.0  11.8   99.0  10.38  230.0   22.0  299.1  329.7   \n",
       "16    823.0   1747  11.0   9.0   87.0   8.83  230.0   23.0  300.4  326.7   \n",
       "17    814.9   1829  10.9   8.6   85.0   8.66  230.0   24.0  301.2  327.1   \n",
       "18    800.0   1983  10.8   7.8   82.0   8.36  227.0   27.0  302.6  327.8   \n",
       "19    785.7   2134  10.8   3.6   61.0   6.34  225.0   29.0  304.2  323.6   \n",
       "20    783.0   2163  10.8   2.8   58.0   6.01  225.0   29.0  304.5  323.0   \n",
       "21    757.2   2438   8.5   0.5   57.0   5.28  220.0   29.0  305.0  321.4   \n",
       "22    729.7   2743   6.0  -2.0   56.0   4.56  220.0   32.0  305.5  319.8   \n",
       "23    708.0   2992   4.0  -4.0   56.0   4.04  216.0   32.0  305.9  318.6   \n",
       "24    700.0   3084   3.2  -2.8   65.0   4.47  215.0   32.0  306.0  320.0   \n",
       "25    692.0   3177   2.4  -2.6   70.0   4.59  214.0   32.0  306.1  320.5   \n",
       "26    666.0   3486  -0.1  -4.2   74.0   4.23  212.0   31.0  306.7  320.0   \n",
       "27    651.9   3658  -1.5  -2.9   90.0   4.77  210.0   31.0  307.0  321.9   \n",
       "28    650.0   3681  -1.7  -2.7   93.0   4.85  211.0   32.0  307.0  322.2   \n",
       "29    640.0   3805  -2.1  -2.3   99.0   5.08  215.0   36.0  307.9  323.8   \n",
       "..      ...    ...   ...   ...    ...    ...    ...    ...    ...    ...   \n",
       "102    62.3  19202 -68.4 -83.5   10.0   0.01  220.0   21.0  452.5  452.5   \n",
       "103    62.1  19224 -68.5 -83.5   10.0   0.01  222.0   21.0  452.7  452.8   \n",
       "104    61.1  19322 -66.3 -82.3    9.0   0.01  230.0   19.0  459.7  459.8   \n",
       "105    56.4  19811 -64.3 -81.3    8.0   0.01  273.0   11.0  474.9  475.0   \n",
       "106    54.1  20066 -65.3 -81.3    9.0   0.01  294.0    7.0  478.3  478.4   \n",
       "107    51.0  20422 -63.6 -80.5    8.0   0.01  325.0    1.0  490.2  490.3   \n",
       "108    50.5  20489 -63.3 -80.3    8.0   0.01    7.0    4.0  492.5  492.6   \n",
       "109    50.0  20550 -63.7 -80.7    8.0   0.01   45.0    6.0  492.9  493.0   \n",
       "110    48.6  20726 -63.7 -80.7    8.0   0.01   65.0   14.0  497.0  497.1   \n",
       "111    46.2  21031 -63.7 -80.7    8.0   0.01  115.0   11.0  504.1  504.2   \n",
       "112    46.0  21060 -63.7 -80.7    8.0   0.01  112.0   11.0  504.8  504.9   \n",
       "113    44.0  21336 -62.4 -80.3    7.0   0.01   85.0   10.0  514.6  514.7   \n",
       "114    41.9  21641 -60.9 -79.9    6.0   0.02  105.0   20.0  525.5  525.7   \n",
       "115    41.9  21636 -60.9 -79.9    6.0   0.02  105.0   20.0  525.4  525.5   \n",
       "116    38.0  22250 -61.1 -79.2    7.0   0.02  100.0   19.0  540.1  540.2   \n",
       "117    37.3  22357 -61.1 -79.1    8.0   0.02  102.0   21.0  542.6  542.8   \n",
       "118    35.4  22683 -58.5 -77.5    7.0   0.03  107.0   27.0  557.6  557.8   \n",
       "119    34.4  22860 -58.5 -77.2    7.0   0.03  110.0   30.0  562.1  562.3   \n",
       "120    32.8  23165 -58.5 -76.8    8.0   0.03   90.0   35.0  570.0  570.2   \n",
       "121    31.7  23375 -58.5 -76.5    8.0   0.04   86.0   34.0  575.4  575.8   \n",
       "122    30.0  23720 -59.5 -77.5    8.0   0.03   80.0   32.0  581.9  582.1   \n",
       "123    29.0  23932 -60.5 -77.5    9.0   0.03   82.0   33.0  584.8  585.1   \n",
       "124    28.0  24151 -59.1 -78.1    7.0   0.03   83.0   34.0  594.5  594.8   \n",
       "125    27.0  24384 -59.6 -78.1    7.0   0.03   85.0   35.0  599.6  599.9   \n",
       "126    25.9  24639 -60.1 -78.1    8.0   0.03   84.0   34.0  605.1  605.4   \n",
       "127    21.5  25806 -58.1 -78.1    6.0   0.04   77.0   30.0  644.1  644.5   \n",
       "128    20.0  26260 -59.5 -77.5    8.0   0.05   75.0   28.0  653.3  653.8   \n",
       "129    19.5  26418 -59.9 -77.9    8.0   0.05   76.0   28.0  656.8  657.3   \n",
       "130    17.4  27127 -59.4 -78.3    7.0   0.05   80.0   27.0  680.2  680.7   \n",
       "131    17.2  27203 -59.3 -78.3    7.0   0.05  682.7  683.2  682.7    NaN   \n",
       "\n",
       "      THTV  \n",
       "0      NaN  \n",
       "1    282.7  \n",
       "2    282.3  \n",
       "3    282.8  \n",
       "4    282.9  \n",
       "5    284.6  \n",
       "6    287.9  \n",
       "7    291.0  \n",
       "8    296.6  \n",
       "9    298.1  \n",
       "10   298.3  \n",
       "11   298.8  \n",
       "12   300.8  \n",
       "13   300.8  \n",
       "14   301.0  \n",
       "15   301.0  \n",
       "16   302.0  \n",
       "17   302.8  \n",
       "18   304.2  \n",
       "19   305.4  \n",
       "20   305.6  \n",
       "21   306.0  \n",
       "22   306.3  \n",
       "23   306.6  \n",
       "24   306.8  \n",
       "25   307.0  \n",
       "26   307.5  \n",
       "27   307.9  \n",
       "28   307.9  \n",
       "29   308.9  \n",
       "..     ...  \n",
       "102  452.5  \n",
       "103  452.7  \n",
       "104  459.7  \n",
       "105  474.9  \n",
       "106  478.3  \n",
       "107  490.2  \n",
       "108  492.5  \n",
       "109  492.9  \n",
       "110  497.0  \n",
       "111  504.1  \n",
       "112  504.8  \n",
       "113  514.6  \n",
       "114  525.5  \n",
       "115  525.4  \n",
       "116  540.1  \n",
       "117  542.7  \n",
       "118  557.6  \n",
       "119  562.1  \n",
       "120  570.0  \n",
       "121  575.5  \n",
       "122  581.9  \n",
       "123  584.8  \n",
       "124  594.6  \n",
       "125  599.6  \n",
       "126  605.1  \n",
       "127  644.2  \n",
       "128  653.3  \n",
       "129  656.9  \n",
       "130  680.2  \n",
       "131    NaN  \n",
       "\n",
       "[132 rows x 11 columns]>"
      ]
     },
     "execution_count": 7,
     "metadata": {},
     "output_type": "execute_result"
    }
   ],
   "source": [
    "df.describe"
   ]
  },
  {
   "cell_type": "code",
   "execution_count": 8,
   "metadata": {},
   "outputs": [
    {
     "data": {
      "text/plain": [
       "PRES    float64\n",
       "HGHT      int64\n",
       "TEMP    float64\n",
       "DWPT    float64\n",
       "RELH    float64\n",
       "MIXR    float64\n",
       "DRCT    float64\n",
       "SKNT    float64\n",
       "THTA    float64\n",
       "THTE    float64\n",
       "THTV    float64\n",
       "dtype: object"
      ]
     },
     "execution_count": 8,
     "metadata": {},
     "output_type": "execute_result"
    }
   ],
   "source": [
    "# Ver los tipos de datos que Pandas ha reconocido al leer\n",
    "df.dtypes"
   ]
  },
  {
   "cell_type": "code",
   "execution_count": 9,
   "metadata": {
    "scrolled": true
   },
   "outputs": [
    {
     "data": {
      "image/png": "[encoded data removed]",
      "text/plain": [
       "<matplotlib.figure.Figure at 0x7fcefefb6198>"
      ]
     },
     "metadata": {},
     "output_type": "display_data"
    }
   ],
   "source": [
    "df.plot(x='PRES',y='HGHT', color='black')\n",
    "\n",
    "plt.grid(True)\n",
    "plt.show()"
   ]
  },
  {
   "cell_type": "code",
   "execution_count": 10,
   "metadata": {},
   "outputs": [
    {
     "data": {
      "image/png": "[encoded data removed]",
      "text/plain": [
       "<matplotlib.figure.Figure at 0x7fcefef98630>"
      ]
     },
     "metadata": {},
     "output_type": "display_data"
    }
   ],
   "source": [
    "df.plot(x='TEMP',y='HGHT', color='black')\n",
    "plt.grid(True)\n",
    "plt.show()"
   ]
  },
  {
   "cell_type": "code",
   "execution_count": null,
   "metadata": {},
   "outputs": [],
   "source": []
  },
  {
   "cell_type": "code",
   "execution_count": 11,
   "metadata": {},
   "outputs": [
    {
     "data": {
      "image/png": "[encoded data removed]",
      "text/plain": [
       "<matplotlib.figure.Figure at 0x7fcefefb65f8>"
      ]
     },
     "metadata": {},
     "output_type": "display_data"
    }
   ],
   "source": [
    "# Gráfica de la rapidez de los vientos \n",
    "plt.figure(); df.SKNT.plot(); plt.legend(loc='best')\n",
    "plt.title(\"Variación de la Rapidez de los Vientos\")\n",
    "plt.ylabel(\"Rapidez (nudos)\")\n",
    "plt.grid(True)\n",
    "plt.show()"
   ]
  },
  {
   "cell_type": "code",
   "execution_count": 12,
   "metadata": {},
   "outputs": [
    {
     "data": {
      "image/png": "[encoded data removed]",
      "text/plain": [
       "<matplotlib.figure.Figure at 0x7fcefef9e668>"
      ]
     },
     "metadata": {},
     "output_type": "display_data"
    }
   ],
   "source": [
    "plt.figure(); df.RELH.plot(); plt.legend(loc='best')\n",
    "plt.title(\"Humedad relativa\")\n",
    "plt.grid(True)\n",
    "plt.show()"
   ]
  },
  {
   "cell_type": "code",
   "execution_count": null,
   "metadata": {
    "collapsed": true
   },
   "outputs": [],
   "source": []
  },
  {
   "cell_type": "code",
   "execution_count": null,
   "metadata": {
    "collapsed": true
   },
   "outputs": [],
   "source": []
  },
  {
   "cell_type": "code",
   "execution_count": null,
   "metadata": {
    "collapsed": true
   },
   "outputs": [],
   "source": []
  },
  {
   "cell_type": "code",
   "execution_count": null,
   "metadata": {
    "collapsed": true
   },
   "outputs": [],
   "source": []
  },
  {
   "cell_type": "code",
   "execution_count": null,
   "metadata": {
    "collapsed": true
   },
   "outputs": [],
   "source": []
  },
  {
   "cell_type": "code",
   "execution_count": null,
   "metadata": {
    "collapsed": true
   },
   "outputs": [],
   "source": []
  },
  {
   "cell_type": "code",
   "execution_count": null,
   "metadata": {
    "collapsed": true
   },
   "outputs": [],
   "source": []
  },
  {
   "cell_type": "code",
   "execution_count": null,
   "metadata": {
    "collapsed": true
   },
   "outputs": [],
   "source": []
  },
  {
   "cell_type": "code",
   "execution_count": null,
   "metadata": {
    "collapsed": true
   },
   "outputs": [],
   "source": []
  },
  {
   "cell_type": "code",
   "execution_count": null,
   "metadata": {
    "collapsed": true
   },
   "outputs": [],
   "source": []
  },
  {
   "cell_type": "code",
   "execution_count": null,
   "metadata": {
    "collapsed": true
   },
   "outputs": [],
   "source": []
  },
  {
   "cell_type": "code",
   "execution_count": null,
   "metadata": {
    "collapsed": true
   },
   "outputs": [],
   "source": []
  },
  {
   "cell_type": "code",
   "execution_count": null,
   "metadata": {
    "collapsed": true
   },
   "outputs": [],
   "source": []
  },
  {
   "cell_type": "code",
   "execution_count": null,
   "metadata": {
    "collapsed": true
   },
   "outputs": [],
   "source": []
  },
  {
   "cell_type": "code",
   "execution_count": null,
   "metadata": {
    "collapsed": true
   },
   "outputs": [],
   "source": []
  },
  {
   "cell_type": "code",
   "execution_count": null,
   "metadata": {
    "collapsed": true
   },
   "outputs": [],
   "source": []
  },
  {
   "cell_type": "code",
   "execution_count": null,
   "metadata": {
    "collapsed": true
   },
   "outputs": [],
   "source": []
  },
  {
   "cell_type": "code",
   "execution_count": null,
   "metadata": {
    "collapsed": true
   },
   "outputs": [],
   "source": []
  },
  {
   "cell_type": "code",
   "execution_count": null,
   "metadata": {
    "collapsed": true
   },
   "outputs": [],
   "source": []
  },
  {
   "cell_type": "code",
   "execution_count": null,
   "metadata": {
    "collapsed": true
   },
   "outputs": [],
   "source": []
  },
  {
   "cell_type": "code",
   "execution_count": null,
   "metadata": {
    "collapsed": true
   },
   "outputs": [],
   "source": []
  },
  {
   "cell_type": "code",
   "execution_count": null,
   "metadata": {
    "collapsed": true
   },
   "outputs": [],
   "source": []
  },
  {
   "cell_type": "code",
   "execution_count": null,
   "metadata": {
    "collapsed": true
   },
   "outputs": [],
   "source": []
  },
  {
   "cell_type": "code",
   "execution_count": null,
   "metadata": {
    "collapsed": true
   },
   "outputs": [],
   "source": []
  }
 ],
 "metadata": {
  "kernelspec": {
   "display_name": "Python 3",
   "language": "python",
   "name": "python3"
  },
  "language_info": {
   "codemirror_mode": {
    "name": "ipython",
    "version": 3
   },
   "file_extension": ".py",
   "mimetype": "text/x-python",
   "name": "python",
   "nbconvert_exporter": "python",
   "pygments_lexer": "ipython3",
   "version": "3.6.3"
  }
 },
 "nbformat": 4,
 "nbformat_minor": 2
}
